{
  "nbformat": 4,
  "nbformat_minor": 0,
  "metadata": {
    "colab": {
      "name": "sinhngaunhien.ipynb",
      "provenance": [],
      "authorship_tag": "ABX9TyOiVUiUNAGrYwGT7Ayjv9TJ",
      "include_colab_link": true
    },
    "kernelspec": {
      "name": "python3",
      "display_name": "Python 3"
    },
    "language_info": {
      "name": "python"
    }
  },
  "cells": [
    {
      "cell_type": "markdown",
      "metadata": {
        "id": "view-in-github",
        "colab_type": "text"
      },
      "source": [
        "<a href=\"https://colab.research.google.com/github/viett887g/sinhdulieu/blob/main/sinhngaunhien.ipynb\" target=\"_parent\"><img src=\"https://colab.research.google.com/assets/colab-badge.svg\" alt=\"Open In Colab\"/></a>"
      ]
    },
    {
      "cell_type": "code",
      "execution_count": 6,
      "metadata": {
        "id": "EQR5RjjTTq6t"
      },
      "outputs": [],
      "source": [
        "import numpy as np\n",
        "import random"
      ]
    },
    {
      "cell_type": "markdown",
      "source": [
        "Sinh mẫu ngẫu nhiên bằng hàm arange trong khoảng [-15, 27] với khoảng cách là 0.7 và in kết quả ra màn hình"
      ],
      "metadata": {
        "id": "nUlvGw2vUQSI"
      }
    },
    {
      "cell_type": "code",
      "source": [
        "b = np.arange(-15, 27, 0.7)\n",
        "print(b)"
      ],
      "metadata": {
        "colab": {
          "base_uri": "https://localhost:8080/"
        },
        "id": "yXuYPoCLT7no",
        "outputId": "10e52f7e-7035-44bc-f805-ae98c98b9774"
      },
      "execution_count": 5,
      "outputs": [
        {
          "output_type": "stream",
          "name": "stdout",
          "text": [
            "[-15.  -14.3 -13.6 -12.9 -12.2 -11.5 -10.8 -10.1  -9.4  -8.7  -8.   -7.3\n",
            "  -6.6  -5.9  -5.2  -4.5  -3.8  -3.1  -2.4  -1.7  -1.   -0.3   0.4   1.1\n",
            "   1.8   2.5   3.2   3.9   4.6   5.3   6.    6.7   7.4   8.1   8.8   9.5\n",
            "  10.2  10.9  11.6  12.3  13.   13.7  14.4  15.1  15.8  16.5  17.2  17.9\n",
            "  18.6  19.3  20.   20.7  21.4  22.1  22.8  23.5  24.2  24.9  25.6  26.3\n",
            "  27. ]\n"
          ]
        }
      ]
    },
    {
      "cell_type": "code",
      "source": [
        "Sinh mẫu ngẫu nhiên theo phân phối chuẩn với mean = 2.7 std = 1.2 và size = 40 In kết quả ra màn hình"
      ],
      "metadata": {
        "id": "NiLYG3vZUREQ"
      },
      "execution_count": null,
      "outputs": []
    },
    {
      "cell_type": "code",
      "source": [
        "c= np.random.normal(loc=2.7,scale= 1.2,size= 40)\n",
        "print(c)"
      ],
      "metadata": {
        "colab": {
          "base_uri": "https://localhost:8080/"
        },
        "id": "iAdlIqU3UUCP",
        "outputId": "7b2d7f60-f012-4b95-de5f-92b7c7b5e408"
      },
      "execution_count": 9,
      "outputs": [
        {
          "output_type": "stream",
          "name": "stdout",
          "text": [
            "[3.91898415 1.30164415 2.1558589  3.5300205  2.22561773 5.1357319\n",
            " 4.20946807 2.901713   2.12279254 3.01327865 2.56053819 3.57181011\n",
            " 2.08549644 2.22712609 2.18839814 1.52955809 1.52682082 2.0678992\n",
            " 1.61450878 4.10032278 1.59196769 0.70314655 3.60901677 3.29514268\n",
            " 3.76231218 0.89477318 4.56679826 3.8919121  1.87363549 3.03371955\n",
            " 3.46958987 2.58216493 2.60236282 2.17709585 3.71070746 0.88162366\n",
            " 0.28027787 4.56457341 2.09411045 2.5441677 ]\n"
          ]
        }
      ]
    },
    {
      "cell_type": "markdown",
      "source": [
        "Sinh mẫu ngẫu nhiên từ vector ['Viet Nam', 'Britain', 'France', 'Russia', 'Singapore']\n",
        "với kích thước là 17 theo phân phối chuẩn"
      ],
      "metadata": {
        "id": "ZtTJ5hLnU1-3"
      }
    },
    {
      "cell_type": "code",
      "source": [
        "d= np.random.choice( ['Viet Nam', 'Britain', 'France', 'Russia', 'Singapore'], 17)\n",
        "print(d)"
      ],
      "metadata": {
        "colab": {
          "base_uri": "https://localhost:8080/"
        },
        "id": "NMoI-bhZU1iK",
        "outputId": "15ebeb67-eb04-4eca-b636-cd4c4ddfb507"
      },
      "execution_count": 11,
      "outputs": [
        {
          "output_type": "stream",
          "name": "stdout",
          "text": [
            "['Russia' 'Russia' 'Singapore' 'France' 'Singapore' 'Viet Nam' 'Viet Nam'\n",
            " 'Britain' 'Singapore' 'Viet Nam' 'Britain' 'Britain' 'Russia' 'Britain'\n",
            " 'Singapore' 'France' 'Britain']\n"
          ]
        }
      ]
    },
    {
      "cell_type": "markdown",
      "source": [
        "Sinh mẫu ngẫu nhiên ở câu 3 nhưng không theo phân phối chuẩn mà theo 1 vector đặc tả giá trị xác suất do bạn chọn"
      ],
      "metadata": {
        "id": "I0C4OfLbVHcQ"
      }
    },
    {
      "cell_type": "code",
      "source": [
        "n=int(input())\n",
        "print(d[n])"
      ],
      "metadata": {
        "colab": {
          "base_uri": "https://localhost:8080/"
        },
        "id": "0Z4nXTAtVGlv",
        "outputId": "b66507cd-1755-4aaf-ee06-c5d578c73e8c"
      },
      "execution_count": 12,
      "outputs": [
        {
          "output_type": "stream",
          "name": "stdout",
          "text": [
            "2\n",
            "Singapore\n"
          ]
        }
      ]
    },
    {
      "cell_type": "markdown",
      "source": [
        "Sử dụng thư việc scipy.stats để sinh mẫu ngẫu nhiên\n",
        "\n",
        "Sinh mẫu ngẫu nhiên theo phân phối chuẩn với mean = 12.7, std = 2.6 và size = 30. In kết quả ra màn hình"
      ],
      "metadata": {
        "id": "ieHchrvmVXrn"
      }
    },
    {
      "cell_type": "code",
      "source": [
        "import scipy.stats as stats\n",
        "from scipy import stats"
      ],
      "metadata": {
        "id": "H9gMG6CfVUTI"
      },
      "execution_count": 20,
      "outputs": []
    },
    {
      "cell_type": "code",
      "source": [
        "e= np.random.normal(loc=12.7,scale= 2.6,size= 30)\n",
        "print(e)"
      ],
      "metadata": {
        "colab": {
          "base_uri": "https://localhost:8080/"
        },
        "id": "Z69M96OcVdEP",
        "outputId": "94c5faf4-2f03-4632-b7fc-9c3c51b99a1d"
      },
      "execution_count": 14,
      "outputs": [
        {
          "output_type": "stream",
          "name": "stdout",
          "text": [
            "[14.11027162 15.36160173  9.93576513  9.18529509 12.28210159  8.41609418\n",
            " 13.93647339  6.85608274 10.81303625 11.77622168  9.9777235  13.06277773\n",
            " 14.46685333 18.10093739 15.91529528 12.13560566 14.14925266 17.02714588\n",
            " 12.24874255 12.36833442 13.38582798  9.37267642 10.08253819 17.74798806\n",
            " 10.83093496 14.92155983 15.85488156  7.40608189 13.80166931 10.83063065]\n"
          ]
        }
      ]
    },
    {
      "cell_type": "code",
      "source": [
        "sample_10 = stats.poisson.rvs(loc=12.7,mu=2.6,size=30)\n",
        "print(sample_10)"
      ],
      "metadata": {
        "colab": {
          "base_uri": "https://localhost:8080/"
        },
        "id": "Q4i97sSvVzTf",
        "outputId": "9bf857ae-a024-4350-e0aa-b1dd154f2620"
      },
      "execution_count": 19,
      "outputs": [
        {
          "output_type": "stream",
          "name": "stdout",
          "text": [
            "[13 16 16 15 16 16 15 14 13 14 15 14 13 12 16 13 14 12 16 15 13 15 14 15\n",
            " 13 15 15 14 13 14]\n"
          ]
        }
      ]
    }
  ]
}